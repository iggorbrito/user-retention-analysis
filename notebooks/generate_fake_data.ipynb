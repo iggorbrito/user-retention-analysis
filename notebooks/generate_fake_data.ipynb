{
  "nbformat": 4,
  "nbformat_minor": 0,
  "metadata": {
    "colab": {
      "provenance": []
    },
    "kernelspec": {
      "name": "python3",
      "display_name": "Python 3"
    },
    "language_info": {
      "name": "python"
    }
  },
  "cells": [
    {
      "cell_type": "markdown",
      "source": [
        "# Análise de Retenção de Usuários\n",
        "\n",
        "O primeiro passo para conseguirmos iniciar as nossas análises é conseguir extrair os dados que vamos utilizar. Como o case trata de uma empresa fictícia, vamos realizar a tratativa dos dados utilizando a biblioteca `faker` dentro desse notebook.\n",
        "\n",
        "O objetivo desse notebook é gerar os arquivos necessários para manipularmos em análises posteriores\n",
        "\n",
        "## Restrições:\n",
        "\n",
        "* Os arquivos devem ser gerados em csv\n",
        "* Os arquivos devem retornar a quantidade de registros abaixo:\n",
        "  * `users`: 1000 registros\n",
        "  * `usage`: 3000 registros\n",
        "  * `transactions`: 5000 registros"
      ],
      "metadata": {
        "id": "RqPknZ0wXFjE"
      }
    },
    {
      "cell_type": "code",
      "execution_count": 3,
      "metadata": {
        "colab": {
          "base_uri": "https://localhost:8080/"
        },
        "id": "8dHIqESfW0_P",
        "outputId": "dcc2f366-0db9-4869-c94b-a97d0d84f6b9"
      },
      "outputs": [
        {
          "output_type": "stream",
          "name": "stdout",
          "text": [
            "Collecting faker\n",
            "  Downloading Faker-28.1.0-py3-none-any.whl.metadata (15 kB)\n",
            "Requirement already satisfied: python-dateutil>=2.4 in /usr/local/lib/python3.10/dist-packages (from faker) (2.8.2)\n",
            "Requirement already satisfied: six>=1.5 in /usr/local/lib/python3.10/dist-packages (from python-dateutil>=2.4->faker) (1.16.0)\n",
            "Downloading Faker-28.1.0-py3-none-any.whl (1.8 MB)\n",
            "\u001b[2K   \u001b[90m━━━━━━━━━━━━━━━━━━━━━━━━━━━━━━━━━━━━━━━━\u001b[0m \u001b[32m1.8/1.8 MB\u001b[0m \u001b[31m19.5 MB/s\u001b[0m eta \u001b[36m0:00:00\u001b[0m\n",
            "\u001b[?25hInstalling collected packages: faker\n",
            "Successfully installed faker-28.1.0\n"
          ]
        }
      ],
      "source": [
        "# Instalação das bibliotecas\n",
        "\n",
        "!pip install faker"
      ]
    },
    {
      "cell_type": "code",
      "source": [
        "# Importar Bibliotecas\n",
        "\n",
        "from faker import Faker\n",
        "import pandas as pd\n",
        "import random\n",
        "import numpy as np\n",
        "import os"
      ],
      "metadata": {
        "id": "HsVHOBoSY2QO"
      },
      "execution_count": 11,
      "outputs": []
    },
    {
      "cell_type": "code",
      "source": [
        "# Inicializando o faker\n",
        "\n",
        "fake = Faker()"
      ],
      "metadata": {
        "id": "2eixTqqMZASD"
      },
      "execution_count": 9,
      "outputs": []
    },
    {
      "cell_type": "code",
      "source": [
        "# Número de registros fictícios\n",
        "num_records = 1000\n",
        "\n",
        "# Gerar dados fictícios para a tabela `Users`\n",
        "users_data = {\n",
        "    \"user_id\": [i for i in range(1, num_records + 1)],\n",
        "    \"signup_date\": [fake.date_this_decade() for _ in range(num_records)],\n",
        "    \"last_active_date\": [fake.date_this_month() for _ in range(num_records)],\n",
        "    \"subscription_type\": [random.choice([\"free\", \"premium\"]) for _ in range(num_records)]\n",
        "}\n",
        "\n",
        "users_df = pd.DataFrame(users_data)\n",
        "\n",
        "# Criar o diretório data se não existir\n",
        "os.makedirs('data', exist_ok=True)\n",
        "\n",
        "# Salvar os DataFrames em arquivos CSV\n",
        "users_df.to_csv('data/users.csv', index=False)\n",
        "\n",
        "print(\"Dados fictícios gerados e salvos em 'data/'\")"
      ],
      "metadata": {
        "colab": {
          "base_uri": "https://localhost:8080/"
        },
        "id": "OEpzSDU8ZaM3",
        "outputId": "2a94d6f0-1cd2-4d18-d820-4aa5f368344d"
      },
      "execution_count": 12,
      "outputs": [
        {
          "output_type": "stream",
          "name": "stdout",
          "text": [
            "Dados fictícios gerados e salvos em 'data/'\n"
          ]
        }
      ]
    },
    {
      "cell_type": "code",
      "source": [
        "# Número de registros fictícios\n",
        "num_records = 3000\n",
        "\n",
        "# Gerar dados fictícios para a tabela `Usage`\n",
        "usage_data = {\n",
        "    \"user_id\": [random.randint(1, num_records) for _ in range(num_records * 3)],\n",
        "    \"activity_date\": [fake.date_this_year() for _ in range(num_records * 3)],\n",
        "    \"activity_type\": [random.choice([\"login\", \"subscription\", \"review\"]) for _ in range(num_records * 3)]\n",
        "}\n",
        "\n",
        "usage_df = pd.DataFrame(usage_data)\n",
        "\n",
        "# Salvar os DataFrames em arquivos CSV\n",
        "usage_df.to_csv('data/usage.csv', index=False)\n",
        "\n",
        "print(\"Dados fictícios gerados e salvos em 'data/'\")"
      ],
      "metadata": {
        "colab": {
          "base_uri": "https://localhost:8080/"
        },
        "id": "AdJYA1JTaRcn",
        "outputId": "0e7edf88-8c2e-4ce9-aa3b-86a227243ee7"
      },
      "execution_count": 13,
      "outputs": [
        {
          "output_type": "stream",
          "name": "stdout",
          "text": [
            "Dados fictícios gerados e salvos em 'data/'\n"
          ]
        }
      ]
    },
    {
      "cell_type": "code",
      "source": [
        "# Número de registros fictícios\n",
        "num_records = 5000\n",
        "\n",
        "# Gerar dados fictícios para a tabela `Transactions`\n",
        "transactions_data = {\n",
        "    \"user_id\": [random.randint(1, num_records) for _ in range(num_records * 2)],\n",
        "    \"transaction_date\": [fake.date_this_year() for _ in range(num_records * 2)],\n",
        "    \"amount\": [round(random.uniform(1.0, 100.0), 2) for _ in range(num_records * 2)]\n",
        "}\n",
        "\n",
        "transactions_df = pd.DataFrame(transactions_data)\n",
        "\n",
        "# Criar o diretório data se não existir\n",
        "os.makedirs('data', exist_ok=True)\n",
        "\n",
        "# Salvar os DataFrames em arquivos CSV\n",
        "transactions_df.to_csv('data/transactions.csv', index=False)\n",
        "\n",
        "print(\"Dados fictícios gerados e salvos em 'data/'\")"
      ],
      "metadata": {
        "colab": {
          "base_uri": "https://localhost:8080/"
        },
        "id": "i6_2H7DhajLL",
        "outputId": "be066738-1aa8-4192-e27a-8e3addf7fb35"
      },
      "execution_count": 14,
      "outputs": [
        {
          "output_type": "stream",
          "name": "stdout",
          "text": [
            "Dados fictícios gerados e salvos em 'data/'\n"
          ]
        }
      ]
    }
  ]
}